{
 "cells": [
  {
   "cell_type": "code",
   "execution_count": 2,
   "metadata": {},
   "outputs": [],
   "source": [
    "import pandas as pd\n",
    "import numpy as np\n",
    "from datetime import datetime, timedelta\n",
    "import seaborn as sns\n",
    "import matplotlib.pyplot as plt"
   ]
  },
  {
   "cell_type": "markdown",
   "metadata": {},
   "source": [
    "# TRAIN"
   ]
  },
  {
   "cell_type": "code",
   "execution_count": 3,
   "metadata": {},
   "outputs": [],
   "source": [
    "aggregated_data_train = pd.read_csv('../data/Datafest2024_Train.csv')\n",
    "aggregated_data_train['fecha_transaccion'] = pd.to_datetime(aggregated_data_train['fecha_transaccion'], format='%Y%m%d')"
   ]
  },
  {
   "cell_type": "code",
   "execution_count": 4,
   "metadata": {},
   "outputs": [],
   "source": [
    "aggregated_data_train = aggregated_data_train.sort_values(by=['fecha_transaccion'])"
   ]
  },
  {
   "cell_type": "code",
   "execution_count": 5,
   "metadata": {},
   "outputs": [
    {
     "name": "stdout",
     "output_type": "stream",
     "text": [
      "MIN:  2023-06-02 00:00:00\n",
      "MAX:  2024-04-14 00:00:00\n"
     ]
    }
   ],
   "source": [
    "print(\"MIN: \", aggregated_data_train['fecha_transaccion'].min())\n",
    "print(\"MAX: \", aggregated_data_train['fecha_transaccion'].max())\n",
    "## desde 2023-06-02"
   ]
  },
  {
   "cell_type": "markdown",
   "metadata": {},
   "source": [
    "# TEST"
   ]
  },
  {
   "cell_type": "code",
   "execution_count": 6,
   "metadata": {},
   "outputs": [],
   "source": [
    "aggregated_data_test = pd.read_csv('../data/Datafest2024_Test.csv')\n",
    "aggregated_data_test['fecha_transaccion'] = pd.to_datetime(aggregated_data_test['fecha_transaccion'], format='%Y%m%d')"
   ]
  },
  {
   "cell_type": "code",
   "execution_count": 7,
   "metadata": {},
   "outputs": [],
   "source": [
    "aggregated_data_test = aggregated_data_test.sort_values(by=['fecha_transaccion'])"
   ]
  },
  {
   "cell_type": "code",
   "execution_count": 8,
   "metadata": {},
   "outputs": [
    {
     "name": "stdout",
     "output_type": "stream",
     "text": [
      "MIN:  2024-04-15 00:00:00\n",
      "MAX:  2024-05-26 00:00:00\n"
     ]
    }
   ],
   "source": [
    "print(\"MIN: \", aggregated_data_test['fecha_transaccion'].min())\n",
    "print(\"MAX: \", aggregated_data_test['fecha_transaccion'].max())\n",
    "## desde 2023-06-02"
   ]
  },
  {
   "cell_type": "markdown",
   "metadata": {},
   "source": [
    "# MERGE"
   ]
  },
  {
   "cell_type": "code",
   "execution_count": 9,
   "metadata": {},
   "outputs": [],
   "source": [
    "final_df = pd.concat([aggregated_data_train, aggregated_data_test], ignore_index=True)"
   ]
  },
  {
   "cell_type": "code",
   "execution_count": 10,
   "metadata": {},
   "outputs": [],
   "source": [
    "final_df = final_df.sort_values(by=['fecha_transaccion'])"
   ]
  },
  {
   "cell_type": "code",
   "execution_count": 11,
   "metadata": {},
   "outputs": [
    {
     "name": "stdout",
     "output_type": "stream",
     "text": [
      "MIN:  2023-06-02 00:00:00\n",
      "MAX:  2024-05-26 00:00:00\n"
     ]
    }
   ],
   "source": [
    "print(\"MIN: \", final_df['fecha_transaccion'].min())\n",
    "print(\"MAX: \", final_df['fecha_transaccion'].max())"
   ]
  },
  {
   "cell_type": "code",
   "execution_count": 13,
   "metadata": {},
   "outputs": [],
   "source": [
    "final_df = final_df.loc[final_df['fecha_transaccion'] < pd.to_datetime('2024-05-21')]"
   ]
  },
  {
   "cell_type": "code",
   "execution_count": 15,
   "metadata": {},
   "outputs": [
    {
     "name": "stdout",
     "output_type": "stream",
     "text": [
      "MIN:  2023-06-02 00:00:00\n",
      "MAX:  2024-05-20 00:00:00\n"
     ]
    }
   ],
   "source": [
    "print(\"MIN: \", final_df['fecha_transaccion'].min())\n",
    "print(\"MAX: \", final_df['fecha_transaccion'].max())"
   ]
  },
  {
   "cell_type": "code",
   "execution_count": 16,
   "metadata": {},
   "outputs": [],
   "source": [
    "final_df.to_csv('../data/Datafest2024_Merged.csv', index=False)"
   ]
  }
 ],
 "metadata": {
  "kernelspec": {
   "display_name": "Python 3",
   "language": "python",
   "name": "python3"
  },
  "language_info": {
   "codemirror_mode": {
    "name": "ipython",
    "version": 3
   },
   "file_extension": ".py",
   "mimetype": "text/x-python",
   "name": "python",
   "nbconvert_exporter": "python",
   "pygments_lexer": "ipython3",
   "version": "3.12.3"
  }
 },
 "nbformat": 4,
 "nbformat_minor": 2
}
